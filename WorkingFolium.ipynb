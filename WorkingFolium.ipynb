{
  "nbformat": 4,
  "nbformat_minor": 0,
  "metadata": {
    "colab": {
      "provenance": [],
      "include_colab_link": true
    },
    "kernelspec": {
      "name": "python3",
      "display_name": "Python 3"
    },
    "language_info": {
      "name": "python"
    }
  },
  "cells": [
    {
      "cell_type": "markdown",
      "metadata": {
        "id": "view-in-github",
        "colab_type": "text"
      },
      "source": [
        "<a href=\"https://colab.research.google.com/github/mgamzec/GeospatialData-Python/blob/main/WorkingFolium.ipynb\" target=\"_parent\"><img src=\"https://colab.research.google.com/assets/colab-badge.svg\" alt=\"Open In Colab\"/></a>"
      ]
    },
    {
      "cell_type": "code",
      "metadata": {
        "id": "gyhk3Mz_s8xk"
      },
      "source": [],
      "execution_count": null,
      "outputs": []
    },
    {
      "cell_type": "code",
      "metadata": {
        "id": "EDOaxngzs9Rs"
      },
      "source": [],
      "execution_count": null,
      "outputs": []
    },
    {
      "cell_type": "code",
      "metadata": {
        "colab": {
          "base_uri": "https://localhost:8080/"
        },
        "id": "1XdF5pqws9bV",
        "outputId": "a2a491ac-7f6e-438e-9411-a46662f0eaf6"
      },
      "source": [
        "import requests # library to handle requests\n",
        "import pandas as pd # library for data analsysis\n",
        "import numpy as np # library to handle data in a vectorized manner\n",
        "import random # library for random number generation\n",
        "\n",
        "!conda install -c conda-forge geopy --yes\n",
        "from geopy.geocoders import Nominatim # module to convert an address into latitude and longitude values\n",
        "\n",
        "# libraries for displaying images\n",
        "from IPython.display import Image\n",
        "from IPython.core.display import HTML\n",
        "\n",
        "# tranforming json file into a pandas dataframe library\n",
        "from pandas.io.json import json_normalize\n",
        "\n",
        "!conda install -c conda-forge folium=0.5.0 --yes\n",
        "import folium # plotting library\n",
        "\n",
        "print('Folium installed')\n",
        "print('Libraries imported.')"
      ],
      "execution_count": null,
      "outputs": [
        {
          "output_type": "stream",
          "text": [
            "/bin/bash: conda: command not found\n",
            "/bin/bash: conda: command not found\n",
            "Folium installed\n",
            "Libraries imported.\n"
          ],
          "name": "stdout"
        }
      ]
    },
    {
      "cell_type": "code",
      "metadata": {
        "id": "MHJPgCTxs9eu"
      },
      "source": [],
      "execution_count": null,
      "outputs": []
    },
    {
      "cell_type": "code",
      "metadata": {
        "colab": {
          "base_uri": "https://localhost:8080/"
        },
        "id": "jE5W4tnLtnna",
        "outputId": "da76640c-0869-4e52-d58f-8f37139d735a"
      },
      "source": [
        "from google.colab import drive\n",
        "drive.mount('drive')"
      ],
      "execution_count": null,
      "outputs": [
        {
          "output_type": "stream",
          "text": [
            "Mounted at drive\n"
          ],
          "name": "stdout"
        }
      ]
    },
    {
      "cell_type": "code",
      "metadata": {
        "id": "aykbHiCDtnq0"
      },
      "source": [
        "df=pd.read_csv('/content/drive/MyDrive/Geospatial_Python/Udemy_geospatialCourse/Copy of MumbaiGeoMerge.csv')"
      ],
      "execution_count": null,
      "outputs": []
    },
    {
      "cell_type": "code",
      "metadata": {
        "colab": {
          "base_uri": "https://localhost:8080/",
          "height": 343
        },
        "id": "IwYmaeB3tnvl",
        "outputId": "a17b57e3-d4ed-4dd8-e6cb-283aa84cf6fb"
      },
      "source": [
        "df.head()"
      ],
      "execution_count": null,
      "outputs": [
        {
          "output_type": "execute_result",
          "data": {
            "text/html": [
              "<div>\n",
              "<style scoped>\n",
              "    .dataframe tbody tr th:only-of-type {\n",
              "        vertical-align: middle;\n",
              "    }\n",
              "\n",
              "    .dataframe tbody tr th {\n",
              "        vertical-align: top;\n",
              "    }\n",
              "\n",
              "    .dataframe thead th {\n",
              "        text-align: right;\n",
              "    }\n",
              "</style>\n",
              "<table border=\"1\" class=\"dataframe\">\n",
              "  <thead>\n",
              "    <tr style=\"text-align: right;\">\n",
              "      <th></th>\n",
              "      <th>Unnamed: 0</th>\n",
              "      <th>Area</th>\n",
              "      <th>Location</th>\n",
              "      <th>Latitude</th>\n",
              "      <th>Longitude</th>\n",
              "      <th>Zone</th>\n",
              "      <th>Neighbourhood</th>\n",
              "      <th>Localty</th>\n",
              "      <th>Min</th>\n",
              "      <th>Max</th>\n",
              "      <th>Avg</th>\n",
              "      <th>Change</th>\n",
              "      <th>latitude</th>\n",
              "      <th>longitude</th>\n",
              "    </tr>\n",
              "  </thead>\n",
              "  <tbody>\n",
              "    <tr>\n",
              "      <th>0</th>\n",
              "      <td>41</td>\n",
              "      <td>Amboli</td>\n",
              "      <td>Andheri,Western Suburbs</td>\n",
              "      <td>19.129300</td>\n",
              "      <td>72.843400</td>\n",
              "      <td>Andheri</td>\n",
              "      <td>Western Suburbs</td>\n",
              "      <td>Jogeshwari West</td>\n",
              "      <td>6328</td>\n",
              "      <td>35000</td>\n",
              "      <td>31625.39</td>\n",
              "      <td>34.5</td>\n",
              "      <td>19.136394</td>\n",
              "      <td>72.837382</td>\n",
              "    </tr>\n",
              "    <tr>\n",
              "      <th>1</th>\n",
              "      <td>69</td>\n",
              "      <td>D.N. Nagar</td>\n",
              "      <td>Andheri,Western Suburbs</td>\n",
              "      <td>19.124085</td>\n",
              "      <td>72.831373</td>\n",
              "      <td>Andheri</td>\n",
              "      <td>Western Suburbs</td>\n",
              "      <td>Andheri West</td>\n",
              "      <td>1750</td>\n",
              "      <td>118750</td>\n",
              "      <td>61324.84</td>\n",
              "      <td>43.0</td>\n",
              "      <td>19.117249</td>\n",
              "      <td>72.833968</td>\n",
              "    </tr>\n",
              "    <tr>\n",
              "      <th>2</th>\n",
              "      <td>126</td>\n",
              "      <td>Four Bungalows</td>\n",
              "      <td>Andheri,Western Suburbs</td>\n",
              "      <td>19.124714</td>\n",
              "      <td>72.827210</td>\n",
              "      <td>Andheri</td>\n",
              "      <td>Western Suburbs</td>\n",
              "      <td>Andheri West</td>\n",
              "      <td>1750</td>\n",
              "      <td>118750</td>\n",
              "      <td>61324.84</td>\n",
              "      <td>43.0</td>\n",
              "      <td>19.117249</td>\n",
              "      <td>72.833968</td>\n",
              "    </tr>\n",
              "    <tr>\n",
              "      <th>3</th>\n",
              "      <td>212</td>\n",
              "      <td>Lokhandwala</td>\n",
              "      <td>Andheri,Western Suburbs</td>\n",
              "      <td>19.130815</td>\n",
              "      <td>72.829270</td>\n",
              "      <td>Andheri</td>\n",
              "      <td>Western Suburbs</td>\n",
              "      <td>Jogeshwari West</td>\n",
              "      <td>6328</td>\n",
              "      <td>35000</td>\n",
              "      <td>31625.39</td>\n",
              "      <td>34.5</td>\n",
              "      <td>19.136394</td>\n",
              "      <td>72.837382</td>\n",
              "    </tr>\n",
              "    <tr>\n",
              "      <th>4</th>\n",
              "      <td>514</td>\n",
              "      <td>Bhayandar</td>\n",
              "      <td>Mira-Bhayandar,Western Suburbs</td>\n",
              "      <td>19.290000</td>\n",
              "      <td>72.850000</td>\n",
              "      <td>Mira-Bhayandar</td>\n",
              "      <td>Western Suburbs</td>\n",
              "      <td>Mira Road East</td>\n",
              "      <td>678</td>\n",
              "      <td>197266</td>\n",
              "      <td>92444.61</td>\n",
              "      <td>7.2</td>\n",
              "      <td>19.281697</td>\n",
              "      <td>72.856068</td>\n",
              "    </tr>\n",
              "  </tbody>\n",
              "</table>\n",
              "</div>"
            ],
            "text/plain": [
              "   Unnamed: 0            Area  ...   latitude  longitude\n",
              "0          41          Amboli  ...  19.136394  72.837382\n",
              "1          69      D.N. Nagar  ...  19.117249  72.833968\n",
              "2         126  Four Bungalows  ...  19.117249  72.833968\n",
              "3         212     Lokhandwala  ...  19.136394  72.837382\n",
              "4         514       Bhayandar  ...  19.281697  72.856068\n",
              "\n",
              "[5 rows x 14 columns]"
            ]
          },
          "metadata": {},
          "execution_count": 4
        }
      ]
    },
    {
      "cell_type": "code",
      "metadata": {
        "id": "hzvy_GHPs9it"
      },
      "source": [
        "df.drop(['Latitude','Longitude','Location'], axis='columns', inplace=True)"
      ],
      "execution_count": null,
      "outputs": []
    },
    {
      "cell_type": "code",
      "metadata": {
        "colab": {
          "base_uri": "https://localhost:8080/",
          "height": 204
        },
        "id": "4qwiiiWLw3Oy",
        "outputId": "2dab4b35-59e9-491d-b2f5-22b96007c380"
      },
      "source": [
        "df.head()"
      ],
      "execution_count": null,
      "outputs": [
        {
          "output_type": "execute_result",
          "data": {
            "text/html": [
              "<div>\n",
              "<style scoped>\n",
              "    .dataframe tbody tr th:only-of-type {\n",
              "        vertical-align: middle;\n",
              "    }\n",
              "\n",
              "    .dataframe tbody tr th {\n",
              "        vertical-align: top;\n",
              "    }\n",
              "\n",
              "    .dataframe thead th {\n",
              "        text-align: right;\n",
              "    }\n",
              "</style>\n",
              "<table border=\"1\" class=\"dataframe\">\n",
              "  <thead>\n",
              "    <tr style=\"text-align: right;\">\n",
              "      <th></th>\n",
              "      <th>Unnamed: 0</th>\n",
              "      <th>Area</th>\n",
              "      <th>Zone</th>\n",
              "      <th>Neighbourhood</th>\n",
              "      <th>Localty</th>\n",
              "      <th>Min</th>\n",
              "      <th>Max</th>\n",
              "      <th>Avg</th>\n",
              "      <th>Change</th>\n",
              "      <th>latitude</th>\n",
              "      <th>longitude</th>\n",
              "    </tr>\n",
              "  </thead>\n",
              "  <tbody>\n",
              "    <tr>\n",
              "      <th>0</th>\n",
              "      <td>41</td>\n",
              "      <td>Amboli</td>\n",
              "      <td>Andheri</td>\n",
              "      <td>Western Suburbs</td>\n",
              "      <td>Jogeshwari West</td>\n",
              "      <td>6328</td>\n",
              "      <td>35000</td>\n",
              "      <td>31625.39</td>\n",
              "      <td>34.5</td>\n",
              "      <td>19.136394</td>\n",
              "      <td>72.837382</td>\n",
              "    </tr>\n",
              "    <tr>\n",
              "      <th>1</th>\n",
              "      <td>69</td>\n",
              "      <td>D.N. Nagar</td>\n",
              "      <td>Andheri</td>\n",
              "      <td>Western Suburbs</td>\n",
              "      <td>Andheri West</td>\n",
              "      <td>1750</td>\n",
              "      <td>118750</td>\n",
              "      <td>61324.84</td>\n",
              "      <td>43.0</td>\n",
              "      <td>19.117249</td>\n",
              "      <td>72.833968</td>\n",
              "    </tr>\n",
              "    <tr>\n",
              "      <th>2</th>\n",
              "      <td>126</td>\n",
              "      <td>Four Bungalows</td>\n",
              "      <td>Andheri</td>\n",
              "      <td>Western Suburbs</td>\n",
              "      <td>Andheri West</td>\n",
              "      <td>1750</td>\n",
              "      <td>118750</td>\n",
              "      <td>61324.84</td>\n",
              "      <td>43.0</td>\n",
              "      <td>19.117249</td>\n",
              "      <td>72.833968</td>\n",
              "    </tr>\n",
              "    <tr>\n",
              "      <th>3</th>\n",
              "      <td>212</td>\n",
              "      <td>Lokhandwala</td>\n",
              "      <td>Andheri</td>\n",
              "      <td>Western Suburbs</td>\n",
              "      <td>Jogeshwari West</td>\n",
              "      <td>6328</td>\n",
              "      <td>35000</td>\n",
              "      <td>31625.39</td>\n",
              "      <td>34.5</td>\n",
              "      <td>19.136394</td>\n",
              "      <td>72.837382</td>\n",
              "    </tr>\n",
              "    <tr>\n",
              "      <th>4</th>\n",
              "      <td>514</td>\n",
              "      <td>Bhayandar</td>\n",
              "      <td>Mira-Bhayandar</td>\n",
              "      <td>Western Suburbs</td>\n",
              "      <td>Mira Road East</td>\n",
              "      <td>678</td>\n",
              "      <td>197266</td>\n",
              "      <td>92444.61</td>\n",
              "      <td>7.2</td>\n",
              "      <td>19.281697</td>\n",
              "      <td>72.856068</td>\n",
              "    </tr>\n",
              "  </tbody>\n",
              "</table>\n",
              "</div>"
            ],
            "text/plain": [
              "   Unnamed: 0            Area            Zone  ... Change   latitude  longitude\n",
              "0          41          Amboli         Andheri  ...   34.5  19.136394  72.837382\n",
              "1          69      D.N. Nagar         Andheri  ...   43.0  19.117249  72.833968\n",
              "2         126  Four Bungalows         Andheri  ...   43.0  19.117249  72.833968\n",
              "3         212     Lokhandwala         Andheri  ...   34.5  19.136394  72.837382\n",
              "4         514       Bhayandar  Mira-Bhayandar  ...    7.2  19.281697  72.856068\n",
              "\n",
              "[5 rows x 11 columns]"
            ]
          },
          "metadata": {},
          "execution_count": 8
        }
      ]
    },
    {
      "cell_type": "code",
      "metadata": {
        "id": "Q9Mh-i1Nv4pY"
      },
      "source": [
        "CLIENT_ID = '' # your Foursquare ID\n",
        "CLIENT_SECRET = '' # your Foursquare Secret\n",
        "ACCESS_TOKEN = '' # your FourSquare Access Token\n",
        "VERSION = '20180604'\n",
        "LIMIT = 30"
      ],
      "execution_count": null,
      "outputs": []
    },
    {
      "cell_type": "code",
      "metadata": {
        "id": "2xLk4jKkv4ud"
      },
      "source": [],
      "execution_count": null,
      "outputs": []
    },
    {
      "cell_type": "code",
      "metadata": {
        "id": "y5tewX5IwNbC"
      },
      "source": [
        "radius = 5000\n",
        "LIMIT = 100\n",
        "\n",
        "def getVenues(names, latitudes, longitudes, radius=5000):\n",
        "\n",
        "    venues_list=[]\n",
        "    for name, lat, lng in zip(names, latitudes, longitudes):\n",
        "        print(name)\n",
        "\n",
        "        # create the API request URL\n",
        "        url = 'https://api.foursquare.com/v2/venues/explore?&client_id={}&client_secret={}&v={}&ll={},{}&radius={}&limit={}'.format(\n",
        "            CLIENT_ID,\n",
        "            CLIENT_SECRET,\n",
        "            VERSION,\n",
        "            lat,\n",
        "            lng,\n",
        "            radius,\n",
        "            LIMIT)\n",
        "\n",
        "        # make the GET request\n",
        "        results = requests.get(url).json()[\"response\"]['groups'][0]['items']\n",
        "\n",
        "        # return only relevant information for each nearby venue\n",
        "        venues_list.append([(\n",
        "            name,\n",
        "            lat,\n",
        "            lng,\n",
        "            v['venue']['name'],\n",
        "            v['venue']['location']['lat'],\n",
        "            v['venue']['location']['lng'],\n",
        "            v['venue']['categories'][0]['name']) for v in results])\n",
        "## dataframer--> nearby_venues\n",
        "    nearby_venues = pd.DataFrame([item for venue_list in venues_list for item in venue_list])\n",
        "    nearby_venues.columns = ['Neighbourhood',\n",
        "                  'Latitude',\n",
        "                  'Longitude',\n",
        "                  'Venue',\n",
        "                  'Venue_Lat',\n",
        "                  'Venue_Long',\n",
        "                  'Venue_Category']\n",
        "\n",
        "    return(nearby_venues)"
      ],
      "execution_count": null,
      "outputs": []
    },
    {
      "cell_type": "code",
      "metadata": {
        "id": "3MNZHWB3wNej"
      },
      "source": [],
      "execution_count": null,
      "outputs": []
    },
    {
      "cell_type": "code",
      "metadata": {
        "colab": {
          "base_uri": "https://localhost:8080/"
        },
        "id": "gFmZPbIywRrC",
        "outputId": "3958ffe3-4fc2-4e8c-f073-de3945d1bc93"
      },
      "source": [
        "Mumbai_Venues = getVenues(names=df['Localty'],\n",
        "                        latitudes=df['latitude'],\n",
        "                        longitudes=df['longitude'])"
      ],
      "execution_count": null,
      "outputs": [
        {
          "output_type": "stream",
          "text": [
            "Jogeshwari West\n",
            "Andheri West\n",
            "Andheri West\n",
            "Jogeshwari West\n",
            "Mira Road East\n",
            "Bandra West\n",
            "Bandra West\n",
            "Dahisar\n",
            "Goregaon West\n",
            "Kandivali West\n",
            "Kandivali West\n",
            "Kandivali East\n",
            "Bandra West\n",
            "Bandra East\n",
            "Goregaon East\n",
            "Malad East\n",
            "Malad West\n",
            "Andheri West\n",
            "Powai\n",
            "Powai\n"
          ],
          "name": "stdout"
        }
      ]
    },
    {
      "cell_type": "code",
      "metadata": {
        "colab": {
          "base_uri": "https://localhost:8080/",
          "height": 204
        },
        "id": "SmiKEqqmwRvH",
        "outputId": "06dfb999-3844-4215-fb1f-8d0419413435"
      },
      "source": [
        "Mumbai_Venues.head()"
      ],
      "execution_count": null,
      "outputs": [
        {
          "output_type": "execute_result",
          "data": {
            "text/html": [
              "<div>\n",
              "<style scoped>\n",
              "    .dataframe tbody tr th:only-of-type {\n",
              "        vertical-align: middle;\n",
              "    }\n",
              "\n",
              "    .dataframe tbody tr th {\n",
              "        vertical-align: top;\n",
              "    }\n",
              "\n",
              "    .dataframe thead th {\n",
              "        text-align: right;\n",
              "    }\n",
              "</style>\n",
              "<table border=\"1\" class=\"dataframe\">\n",
              "  <thead>\n",
              "    <tr style=\"text-align: right;\">\n",
              "      <th></th>\n",
              "      <th>Neighbourhood</th>\n",
              "      <th>Latitude</th>\n",
              "      <th>Longitude</th>\n",
              "      <th>Venue</th>\n",
              "      <th>Venue_Lat</th>\n",
              "      <th>Venue_Long</th>\n",
              "      <th>Venue_Category</th>\n",
              "    </tr>\n",
              "  </thead>\n",
              "  <tbody>\n",
              "    <tr>\n",
              "      <th>0</th>\n",
              "      <td>Jogeshwari West</td>\n",
              "      <td>19.136394</td>\n",
              "      <td>72.837382</td>\n",
              "      <td>Hard Rock Cafe Andheri</td>\n",
              "      <td>19.135995</td>\n",
              "      <td>72.835335</td>\n",
              "      <td>American Restaurant</td>\n",
              "    </tr>\n",
              "    <tr>\n",
              "      <th>1</th>\n",
              "      <td>Jogeshwari West</td>\n",
              "      <td>19.136394</td>\n",
              "      <td>72.837382</td>\n",
              "      <td>Doolally Taproom</td>\n",
              "      <td>19.135917</td>\n",
              "      <td>72.833094</td>\n",
              "      <td>Brewery</td>\n",
              "    </tr>\n",
              "    <tr>\n",
              "      <th>2</th>\n",
              "      <td>Jogeshwari West</td>\n",
              "      <td>19.136394</td>\n",
              "      <td>72.837382</td>\n",
              "      <td>The Little Door</td>\n",
              "      <td>19.139265</td>\n",
              "      <td>72.833180</td>\n",
              "      <td>Pub</td>\n",
              "    </tr>\n",
              "    <tr>\n",
              "      <th>3</th>\n",
              "      <td>Jogeshwari West</td>\n",
              "      <td>19.136394</td>\n",
              "      <td>72.837382</td>\n",
              "      <td>Pizza Express</td>\n",
              "      <td>19.131893</td>\n",
              "      <td>72.834668</td>\n",
              "      <td>Pizza Place</td>\n",
              "    </tr>\n",
              "    <tr>\n",
              "      <th>4</th>\n",
              "      <td>Jogeshwari West</td>\n",
              "      <td>19.136394</td>\n",
              "      <td>72.837382</td>\n",
              "      <td>Mainland China</td>\n",
              "      <td>19.140391</td>\n",
              "      <td>72.838033</td>\n",
              "      <td>Chinese Restaurant</td>\n",
              "    </tr>\n",
              "  </tbody>\n",
              "</table>\n",
              "</div>"
            ],
            "text/plain": [
              "     Neighbourhood   Latitude  ...  Venue_Long       Venue_Category\n",
              "0  Jogeshwari West  19.136394  ...   72.835335  American Restaurant\n",
              "1  Jogeshwari West  19.136394  ...   72.833094              Brewery\n",
              "2  Jogeshwari West  19.136394  ...   72.833180                  Pub\n",
              "3  Jogeshwari West  19.136394  ...   72.834668          Pizza Place\n",
              "4  Jogeshwari West  19.136394  ...   72.838033   Chinese Restaurant\n",
              "\n",
              "[5 rows x 7 columns]"
            ]
          },
          "metadata": {},
          "execution_count": 18
        }
      ]
    },
    {
      "cell_type": "code",
      "metadata": {
        "id": "-Gf56xESwNiZ"
      },
      "source": [
        "Mumbai_Venues_unique_count = Mumbai_Venues['Venue_Category'].value_counts().to_frame(name='Count')"
      ],
      "execution_count": null,
      "outputs": []
    },
    {
      "cell_type": "code",
      "metadata": {
        "colab": {
          "base_uri": "https://localhost:8080/",
          "height": 419
        },
        "id": "nF-MmsKdxJlq",
        "outputId": "1c7c5ce0-03c3-4a08-857a-6fcf42940325"
      },
      "source": [
        "Mumbai_Venues_unique_count"
      ],
      "execution_count": null,
      "outputs": [
        {
          "output_type": "execute_result",
          "data": {
            "text/html": [
              "<div>\n",
              "<style scoped>\n",
              "    .dataframe tbody tr th:only-of-type {\n",
              "        vertical-align: middle;\n",
              "    }\n",
              "\n",
              "    .dataframe tbody tr th {\n",
              "        vertical-align: top;\n",
              "    }\n",
              "\n",
              "    .dataframe thead th {\n",
              "        text-align: right;\n",
              "    }\n",
              "</style>\n",
              "<table border=\"1\" class=\"dataframe\">\n",
              "  <thead>\n",
              "    <tr style=\"text-align: right;\">\n",
              "      <th></th>\n",
              "      <th>Count</th>\n",
              "    </tr>\n",
              "  </thead>\n",
              "  <tbody>\n",
              "    <tr>\n",
              "      <th>Indian Restaurant</th>\n",
              "      <td>217</td>\n",
              "    </tr>\n",
              "    <tr>\n",
              "      <th>Coffee Shop</th>\n",
              "      <td>96</td>\n",
              "    </tr>\n",
              "    <tr>\n",
              "      <th>Café</th>\n",
              "      <td>89</td>\n",
              "    </tr>\n",
              "    <tr>\n",
              "      <th>Ice Cream Shop</th>\n",
              "      <td>75</td>\n",
              "    </tr>\n",
              "    <tr>\n",
              "      <th>Hotel</th>\n",
              "      <td>73</td>\n",
              "    </tr>\n",
              "    <tr>\n",
              "      <th>...</th>\n",
              "      <td>...</td>\n",
              "    </tr>\n",
              "    <tr>\n",
              "      <th>Recreation Center</th>\n",
              "      <td>1</td>\n",
              "    </tr>\n",
              "    <tr>\n",
              "      <th>Hookah Bar</th>\n",
              "      <td>1</td>\n",
              "    </tr>\n",
              "    <tr>\n",
              "      <th>Sports Bar</th>\n",
              "      <td>1</td>\n",
              "    </tr>\n",
              "    <tr>\n",
              "      <th>Bistro</th>\n",
              "      <td>1</td>\n",
              "    </tr>\n",
              "    <tr>\n",
              "      <th>Brazilian Restaurant</th>\n",
              "      <td>1</td>\n",
              "    </tr>\n",
              "  </tbody>\n",
              "</table>\n",
              "<p>115 rows × 1 columns</p>\n",
              "</div>"
            ],
            "text/plain": [
              "                      Count\n",
              "Indian Restaurant       217\n",
              "Coffee Shop              96\n",
              "Café                     89\n",
              "Ice Cream Shop           75\n",
              "Hotel                    73\n",
              "...                     ...\n",
              "Recreation Center         1\n",
              "Hookah Bar                1\n",
              "Sports Bar                1\n",
              "Bistro                    1\n",
              "Brazilian Restaurant      1\n",
              "\n",
              "[115 rows x 1 columns]"
            ]
          },
          "metadata": {},
          "execution_count": 20
        }
      ]
    },
    {
      "cell_type": "code",
      "metadata": {
        "id": "NZl5npenxJqf"
      },
      "source": [],
      "execution_count": null,
      "outputs": []
    },
    {
      "cell_type": "code",
      "metadata": {
        "id": "4AaAmGaDv4zY"
      },
      "source": [],
      "execution_count": null,
      "outputs": []
    }
  ]
}